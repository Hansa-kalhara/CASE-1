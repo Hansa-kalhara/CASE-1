{
 "cells": [
  {
   "cell_type": "code",
   "execution_count": null,
   "id": "7d45a669-f134-4d46-ab34-757479cd9252",
   "metadata": {},
   "outputs": [
    {
     "name": "stdout",
     "output_type": "stream",
     "text": [
      "Dataset Loaded Successfully!\n"
     ]
    }
   ],
   "source": [
    "# Install necessary libraries\n",
    "# !pip install transformers pandas matplotlib\n",
    "\n",
    "# Step 1: Load the CSV dataset\n",
    "import pandas as pd\n",
    "\n",
    "# Load the dataset\n",
    "dataset = pd.read_csv(\"wine_reviews.csv\")\n",
    "print(\"Dataset Loaded Successfully!\")\n",
    "dataset.head()\n",
    "\n",
    "# Step 2: Import HuggingFace Pipeline and Select the Zero-Shot Classification Model\n",
    "from transformers import pipeline\n",
    "\n",
    "# Define the zero-shot classification model\n",
    "classifier = pipeline(\"zero-shot-classification\", model=\"facebook/bart-large-mnli\")\n",
    "print(\"Model Loaded: facebook/bart-large-mnli\")\n",
    "\n",
    "# Step 3: Define Candidate Labels\n",
    "candidate_labels = [\n",
    "    \"talks about food combinations\",\n",
    "    \"talks about taste\",\n",
    "    \"talks about value for money\",\n",
    "    \"other\"\n",
    "]\n",
    "\n",
    "# Step 4: Classify Reviews and Add Predicted Labels\n",
    "def classify_review(review):\n",
    "    # Ensure the review text is valid\n",
    "    if pd.isna(review):\n",
    "        return \"other\"\n",
    "    # Perform classification\n",
    "    result = classifier(review, candidate_labels)\n",
    "    return result['labels'][0]  # Return the label with the highest score\n",
    "\n",
    "# Add the predictions as a new column\n",
    "dataset['talks_about'] = dataset['review'].apply(classify_review)\n",
    "\n",
    "# Save the updated dataset (optional)\n",
    "dataset.to_csv(\"classified_wine_reviews.csv\", index=False)\n",
    "print(\"Classification Completed and Saved to classified_wine_reviews.csv\")\n",
    "\n",
    "# Step 5: Visualize the Spread of Categories\n",
    "import matplotlib.pyplot as plt\n",
    "\n",
    "# Count the occurrences of each category\n",
    "category_counts = dataset['talks_about'].value_counts()\n",
    "\n",
    "# Plot a bar chart\n",
    "plt.figure(figsize=(10, 6))\n",
    "category_counts.plot(kind='bar', color='skyblue', edgecolor='black')\n",
    "plt.title(\"Spread of Review Categories\")\n",
    "plt.xlabel(\"Categories\")\n",
    "plt.ylabel(\"Number of Reviews\")\n",
    "plt.xticks(rotation=45)\n",
    "plt.tight_layout()\n",
    "plt.show()\n"
   ]
  },
  {
   "cell_type": "code",
   "execution_count": null,
   "id": "648c0a47-a25c-4d94-916f-7339aba52ab6",
   "metadata": {},
   "outputs": [],
   "source": []
  }
 ],
 "metadata": {
  "kernelspec": {
   "display_name": "Python 3 (ipykernel)",
   "language": "python",
   "name": "python3"
  },
  "language_info": {
   "codemirror_mode": {
    "name": "ipython",
    "version": 3
   },
   "file_extension": ".py",
   "mimetype": "text/x-python",
   "name": "python",
   "nbconvert_exporter": "python",
   "pygments_lexer": "ipython3",
   "version": "3.12.7"
  }
 },
 "nbformat": 4,
 "nbformat_minor": 5
}
