{
 "cells": [
  {
   "cell_type": "code",
   "execution_count": 2,
   "id": "5d4abb5a-b0d1-4aeb-aa80-ad0652340052",
   "metadata": {},
   "outputs": [
    {
     "name": "stdout",
     "output_type": "stream",
     "text": [
      "Number of rows processed: 5145\n",
      "Length of the main DataFrame: 5145\n"
     ]
    }
   ],
   "source": [
    "import os\n",
    "import pandas as pd\n",
    "\n",
    "# Directory containing the CSV files\n",
    "directory = \"./Wine_Stats/\"\n",
    "\n",
    "# Initialize variables\n",
    "files = os.listdir(directory)\n",
    "dataframes = []\n",
    "rows = 0\n",
    "\n",
    "# Process each file\n",
    "for file in files:\n",
    "    if file.endswith(\".csv\"):  # Ensure only CSV files are processed\n",
    "        file_path = os.path.join(directory, file)\n",
    "        try:\n",
    "            df = pd.read_csv(file_path)\n",
    "            rows += len(df)\n",
    "            dataframes.append(df)\n",
    "        except Exception as e:\n",
    "            print(f\"Error processing file {file}: {e}\")\n",
    "\n",
    "# Concatenate all DataFrames into one\n",
    "if dataframes:  # Check if any DataFrames were added\n",
    "    main = pd.concat(dataframes, ignore_index=True)\n",
    "    print(f\"Number of rows processed: {rows}\")\n",
    "    print(f\"Length of the main DataFrame: {len(main)}\")\n",
    "    main.to_csv(\"wine_df.csv\", index=False)\n",
    "else:\n",
    "    print(\"Error: No valid CSV files found in the directory. Please check the files in './Wine_Stats/'.\")\n"
   ]
  },
  {
   "cell_type": "code",
   "execution_count": null,
   "id": "01d6949a-3ec8-4fb7-a54d-24603c0ff86a",
   "metadata": {},
   "outputs": [],
   "source": []
  }
 ],
 "metadata": {
  "kernelspec": {
   "display_name": "Python 3 (ipykernel)",
   "language": "python",
   "name": "python3"
  },
  "language_info": {
   "codemirror_mode": {
    "name": "ipython",
    "version": 3
   },
   "file_extension": ".py",
   "mimetype": "text/x-python",
   "name": "python",
   "nbconvert_exporter": "python",
   "pygments_lexer": "ipython3",
   "version": "3.12.7"
  }
 },
 "nbformat": 4,
 "nbformat_minor": 5
}
