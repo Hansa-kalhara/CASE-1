{
 "cells": [
  {
   "cell_type": "code",
   "execution_count": 4,
   "id": "5d4abb5a-b0d1-4aeb-aa80-ad0652340052",
   "metadata": {},
   "outputs": [
    {
     "name": "stdout",
     "output_type": "stream",
     "text": [
      "Number of rows processed: 5145\n",
      "Length of the main DataFrame: 5145\n"
     ]
    }
   ],
   "source": [
    "import os\n",
    "import pandas as pd\n",
    "\n",
    "# Directory containing the CSV files\n",
    "directory = \"./Wine_Stats/\"\n",
    "\n",
    "# Initialize variables\n",
    "files = os.listdir(directory)\n",
    "dataframes = []\n",
    "rows = 0\n",
    "\n",
    "# Process each file\n",
    "for file in files:\n",
    "    if file.endswith(\".csv\"):  # Ensure only CSV files are processed\n",
    "        file_path = os.path.join(directory, file)\n",
    "        try:\n",
    "            df = pd.read_csv(file_path)\n",
    "            rows += len(df)\n",
    "            dataframes.append(df)\n",
    "        except Exception as e:\n",
    "            print(f\"Error processing file {file}: {e}\")\n",
    "\n",
    "# Concatenate all DataFrames into one\n",
    "if dataframes:  # Check if any DataFrames were added\n",
    "    main = pd.concat(dataframes, ignore_index=True)\n",
    "    print(f\"Number of rows processed: {rows}\")\n",
    "    print(f\"Length of the main DataFrame: {len(main)}\")\n",
    "    main.to_csv(\"wine_df.csv\", index=False)\n",
    "else:\n",
    "    print(\"Error: No valid CSV files found in the directory. Please check the files in './Wine_Stats/'.\")\n"
   ]
  },
  {
   "cell_type": "code",
   "execution_count": 6,
   "id": "01d6949a-3ec8-4fb7-a54d-24603c0ff86a",
   "metadata": {},
   "outputs": [
    {
     "name": "stdout",
     "output_type": "stream",
     "text": [
      "DataFrame Info:\n",
      "<class 'pandas.core.frame.DataFrame'>\n",
      "RangeIndex: 5145 entries, 0 to 5144\n",
      "Data columns (total 15 columns):\n",
      " #   Column             Non-Null Count  Dtype  \n",
      "---  ------             --------------  -----  \n",
      " 0   Unnamed: 0         5145 non-null   int64  \n",
      " 1   Name               5145 non-null   object \n",
      " 2   Rating             5145 non-null   float64\n",
      " 3   Number of Ratings  5145 non-null   int64  \n",
      " 4   Price              5145 non-null   float64\n",
      " 5   Region             5145 non-null   object \n",
      " 6   Winery             5142 non-null   object \n",
      " 7   Wine style         4624 non-null   object \n",
      " 8   Alcohol content    5145 non-null   float64\n",
      " 9   Grapes             2977 non-null   object \n",
      " 10  Food pairings      5145 non-null   object \n",
      " 11  Bold               5145 non-null   float64\n",
      " 12  Tannin             5145 non-null   float64\n",
      " 13  Sweet              5145 non-null   float64\n",
      " 14  Acidic             5145 non-null   float64\n",
      "dtypes: float64(7), int64(2), object(6)\n",
      "memory usage: 603.1+ KB\n",
      "None\n",
      "Cleaned DataFrame saved to 'project_cleaned.csv'\n"
     ]
    }
   ],
   "source": [
    "# Initial data exploration and cleaning\n",
    "if 'main' in locals() or 'main' in globals():\n",
    "    print(\"DataFrame Info:\")\n",
    "    print(main.info())  # Shows data types, non-null counts, and memory usage\n",
    "\n",
    "    # Remove rows with null values\n",
    "    main.dropna(inplace=True)\n",
    "\n",
    "    # Remove duplicate rows\n",
    "    main.drop_duplicates(inplace=True)\n",
    "\n",
    "    # Save the cleaned DataFrame to a CSV file\n",
    "    main.to_csv(\"project_cleaned.csv\", index=False)\n",
    "    print(\"Cleaned DataFrame saved to 'project_cleaned.csv'\")\n",
    "else:\n",
    "    print(\"Error: 'main' DataFrame is not defined. Please ensure the DataFrame is created before running this code.\")"
   ]
  },
  {
   "cell_type": "code",
   "execution_count": null,
   "id": "6718bfa1-6e2f-415f-85cb-4f0cd0d8ca7f",
   "metadata": {},
   "outputs": [],
   "source": []
  }
 ],
 "metadata": {
  "kernelspec": {
   "display_name": "Python 3 (ipykernel)",
   "language": "python",
   "name": "python3"
  },
  "language_info": {
   "codemirror_mode": {
    "name": "ipython",
    "version": 3
   },
   "file_extension": ".py",
   "mimetype": "text/x-python",
   "name": "python",
   "nbconvert_exporter": "python",
   "pygments_lexer": "ipython3",
   "version": "3.12.7"
  }
 },
 "nbformat": 4,
 "nbformat_minor": 5
}
