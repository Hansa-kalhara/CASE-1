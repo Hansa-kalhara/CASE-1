{
 "cells": [
  {
   "cell_type": "code",
   "execution_count": 3,
   "id": "36b4aab2-1a8d-4b91-a33e-b01344c57b2d",
   "metadata": {},
   "outputs": [],
   "source": [
    "#initialition\n",
    "from dash import Dash, dcc, html\n",
    "import plotly.express as px\n",
    "import pandas as pd\n",
    "\n",
    "# Load the dataset\n",
    "data = pd.read_csv(\"project_final_cleaned.csv\")\n",
    "\n",
    "# Initialize the Dash app\n",
    "app = Dash(__name__)"
   ]
  },
  {
   "cell_type": "code",
   "execution_count": null,
   "id": "44b6e176-6cbc-4c96-a291-fd42f7d870c9",
   "metadata": {},
   "outputs": [],
   "source": []
  }
 ],
 "metadata": {
  "kernelspec": {
   "display_name": "Python 3 (ipykernel)",
   "language": "python",
   "name": "python3"
  },
  "language_info": {
   "codemirror_mode": {
    "name": "ipython",
    "version": 3
   },
   "file_extension": ".py",
   "mimetype": "text/x-python",
   "name": "python",
   "nbconvert_exporter": "python",
   "pygments_lexer": "ipython3",
   "version": "3.12.7"
  }
 },
 "nbformat": 4,
 "nbformat_minor": 5
}
